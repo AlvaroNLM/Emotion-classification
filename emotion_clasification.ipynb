{
 "cells": [
  {
   "cell_type": "code",
   "execution_count": 95,
   "id": "2bb99f01",
   "metadata": {},
   "outputs": [],
   "source": [
    "# Import libraries\n",
    "## data\n",
    "import os\n",
    "import pandas as pd\n",
    "import numpy as np\n",
    "## model \n",
    "import torch\n",
    "import torchaudio\n",
    "import torchaudio.transforms as T\n",
    "from torch.utils.data import Dataset, DataLoader\n",
    "from torch import nn\n",
    "from torch.nn.functional import pad\n",
    "from sklearn.model_selection import train_test_split\n",
    "from sklearn.metrics import accuracy_score, classification_report, confusion_matrix\n",
    "# plot\n",
    "import matplotlib.pyplot as plt\n",
    "import seaborn as sns"
   ]
  },
  {
   "cell_type": "markdown",
   "id": "c1372050",
   "metadata": {},
   "source": [
    "## Data"
   ]
  },
  {
   "cell_type": "markdown",
   "id": "1cd3ef80",
   "metadata": {},
   "source": [
    "### Load"
   ]
  },
  {
   "cell_type": "code",
   "execution_count": 96,
   "id": "37b600db",
   "metadata": {},
   "outputs": [],
   "source": [
    "emotion_map = {\n",
    "    '01': 'neutral',\n",
    "    '02': 'calm',\n",
    "    '03': 'happy',\n",
    "    '04': 'sad',\n",
    "    '05': 'angry',\n",
    "    '06': 'fearful',\n",
    "    '07': 'disgust',\n",
    "    '08': 'surprised'\n",
    "}\n",
    "\n",
    "def parse_emotion_from_filename(filename):\n",
    "    emotion_code = filename.split('-')[2]\n",
    "    return emotion_map.get(emotion_code, 'unknown')\n",
    "\n",
    "# Collect all files and labels\n",
    "def load_filepaths_and_labels(audio_dir):\n",
    "    data = []\n",
    "    for root, _, files in os.walk(audio_dir):\n",
    "        for f in files:\n",
    "            if f.endswith('.wav'):\n",
    "                full_path = os.path.join(root, f)\n",
    "                emotion = parse_emotion_from_filename(f)\n",
    "                actor = root.split(\"\\\\\")[-1]\n",
    "                data.append((full_path, actor, f, emotion))\n",
    "    return pd.DataFrame(data, columns=['path', 'actor', 'file', 'emotion'])\n"
   ]
  },
  {
   "cell_type": "code",
   "execution_count": 97,
   "id": "0b88c0c7",
   "metadata": {},
   "outputs": [],
   "source": [
    "current_path = os.getcwd()\n",
    "data_path = os.path.join(current_path, \"data\")"
   ]
  },
  {
   "cell_type": "code",
   "execution_count": 98,
   "id": "748fc407",
   "metadata": {},
   "outputs": [],
   "source": [
    "df = load_filepaths_and_labels(data_path)"
   ]
  },
  {
   "cell_type": "markdown",
   "id": "5b960fd3",
   "metadata": {},
   "source": [
    "### Class to process data"
   ]
  },
  {
   "cell_type": "code",
   "execution_count": 99,
   "id": "65273f68",
   "metadata": {},
   "outputs": [],
   "source": [
    "class EmotionDataset(Dataset):\n",
    "    def __init__(self, df, transform=None):\n",
    "        self.df = df\n",
    "        self.transform = transform\n",
    "        self.label2idx = {label: idx for idx, label in enumerate(sorted(df['emotion'].unique()))}\n",
    "\n",
    "    def __len__(self):\n",
    "        return len(self.df)\n",
    "\n",
    "    def __getitem__(self, idx):\n",
    "        path = self.df.iloc[idx]['path']\n",
    "        label = self.df.iloc[idx]['emotion']\n",
    "\n",
    "        # Load audio\n",
    "        waveform, sr = torchaudio.load(path)\n",
    "\n",
    "        # Force to mono if stereo\n",
    "        if waveform.shape[0] > 1:\n",
    "            waveform = waveform.mean(dim=0, keepdim=True)\n",
    "\n",
    "        # Optional: resample\n",
    "        if sr != 16000:\n",
    "            resampler = T.Resample(orig_freq=sr, new_freq=16000)\n",
    "            waveform = resampler(waveform)\n",
    "            sr = 16000\n",
    "\n",
    "        # Apply transform (e.g. MFCC)\n",
    "        if self.transform:\n",
    "            waveform = self.transform(waveform)\n",
    "        else:\n",
    "            waveform = waveform\n",
    "\n",
    "        return waveform, self.label2idx[label]\n",
    "        # path = self.df.iloc[idx]['path']\n",
    "        # label = self.df.iloc[idx]['emotion']\n",
    "        # waveform, sr = torchaudio.load(path)\n",
    "        # if self.transform:\n",
    "        #     waveform = self.transform(waveform)\n",
    "        # return waveform, self.label2idx[label]\n"
   ]
  },
  {
   "cell_type": "markdown",
   "id": "d8f26297",
   "metadata": {},
   "source": [
    "### Transform data"
   ]
  },
  {
   "cell_type": "code",
   "execution_count": 100,
   "id": "f5f98f41",
   "metadata": {},
   "outputs": [],
   "source": [
    "mfcc_transform = T.MFCC(\n",
    "    sample_rate=16000,\n",
    "    n_mfcc=40,\n",
    "    melkwargs={'n_fft': 400, 'hop_length': 160, 'n_mels': 64}\n",
    ")\n",
    "\n",
    "# Resample if needed\n",
    "resampler = T.Resample(orig_freq=48000, new_freq=16000)  # optional if not 16kHz\n",
    "\n",
    "def full_transform(waveform):\n",
    "    if waveform.shape[1] > 0:\n",
    "        waveform = resampler(waveform)\n",
    "    return mfcc_transform(waveform)"
   ]
  },
  {
   "cell_type": "markdown",
   "id": "27886adc",
   "metadata": {},
   "source": [
    "## Model"
   ]
  },
  {
   "cell_type": "markdown",
   "id": "77df2b4b",
   "metadata": {},
   "source": [
    "### Train and validation split"
   ]
  },
  {
   "cell_type": "code",
   "execution_count": 101,
   "id": "b6c71043",
   "metadata": {},
   "outputs": [],
   "source": [
    "train_df, val_df = train_test_split(df, test_size=0.2, stratify=df['emotion'], random_state=42)"
   ]
  },
  {
   "cell_type": "markdown",
   "id": "0b18e459",
   "metadata": {},
   "source": [
    "### Emotion Dataset format adn Data Loader"
   ]
  },
  {
   "cell_type": "code",
   "execution_count": 102,
   "id": "88b6c33f",
   "metadata": {},
   "outputs": [],
   "source": [
    "# I add the collate to equlize audio files\n",
    "# An alterantive would be (a) to reduce longer audios or (b) to pad shoter audios\n",
    "def collate_fn(batch):\n",
    "    # batch = list of (mfcc_tensor, label)\n",
    "    mfccs = [item[0] for item in batch]\n",
    "    labels = [item[1] for item in batch]\n",
    "\n",
    "    # Find max time dimension\n",
    "    max_len = max([x.shape[-1] for x in mfccs])\n",
    "\n",
    "    # Pad each MFCC to max_len\n",
    "    mfccs_padded = [\n",
    "        pad(x, (0, max_len - x.shape[-1]))  # pad last dim (time)\n",
    "        for x in mfccs\n",
    "    ]\n",
    "\n",
    "    mfccs_tensor = torch.stack(mfccs_padded)\n",
    "    labels_tensor = torch.tensor(labels)\n",
    "\n",
    "    return mfccs_tensor, labels_tensor"
   ]
  },
  {
   "cell_type": "code",
   "execution_count": 103,
   "id": "a0359da2",
   "metadata": {},
   "outputs": [],
   "source": [
    "train_dataset = EmotionDataset(train_df, transform=full_transform)\n",
    "val_dataset = EmotionDataset(val_df, transform=full_transform)\n",
    "train_loader = DataLoader(train_dataset, batch_size=16, shuffle=True, collate_fn=collate_fn)\n",
    "val_loader = DataLoader(val_dataset, batch_size=16, shuffle=True, collate_fn=collate_fn)"
   ]
  },
  {
   "cell_type": "markdown",
   "id": "905c4281",
   "metadata": {},
   "source": [
    "### Define the model"
   ]
  },
  {
   "cell_type": "code",
   "execution_count": 104,
   "id": "f089ca48",
   "metadata": {},
   "outputs": [],
   "source": [
    "class CNNEmotionClassifier(nn.Module):\n",
    "    def __init__(self, num_classes):\n",
    "        super().__init__()\n",
    "        self.net = nn.Sequential(\n",
    "            nn.Conv2d(1, 16, kernel_size=3, stride=1),\n",
    "            nn.ReLU(),\n",
    "            nn.MaxPool2d(2),\n",
    "            nn.Conv2d(16, 32, kernel_size=3),\n",
    "            nn.ReLU(),\n",
    "            nn.AdaptiveAvgPool2d((1, 1)),\n",
    "            nn.Flatten(),\n",
    "            nn.Linear(32, num_classes)\n",
    "        )\n",
    "\n",
    "    def forward(self, x):\n",
    "        return self.net(x)"
   ]
  },
  {
   "cell_type": "markdown",
   "id": "e89e37ee",
   "metadata": {},
   "source": [
    "### Train the model"
   ]
  },
  {
   "cell_type": "code",
   "execution_count": 105,
   "id": "20d5081c",
   "metadata": {},
   "outputs": [
    {
     "name": "stdout",
     "output_type": "stream",
     "text": [
      "Epoch 1 done. Loss: 1.8919\n",
      "Epoch 2 done. Loss: 1.9112\n",
      "Epoch 3 done. Loss: 1.7621\n",
      "Epoch 4 done. Loss: 1.8636\n",
      "Epoch 5 done. Loss: 1.7509\n",
      "Epoch 6 done. Loss: 1.7732\n",
      "Epoch 7 done. Loss: 1.7108\n",
      "Epoch 8 done. Loss: 1.4848\n",
      "Epoch 9 done. Loss: 1.5677\n",
      "Epoch 10 done. Loss: 1.6232\n"
     ]
    }
   ],
   "source": [
    "device = torch.device(\"cuda\" if torch.cuda.is_available() else \"cpu\")\n",
    "model = CNNEmotionClassifier(num_classes=len(train_dataset.label2idx)).to(device)\n",
    "loss_fn = nn.CrossEntropyLoss()\n",
    "optimizer = torch.optim.Adam(model.parameters(), lr=0.001)\n",
    "n_epochs = 10\n",
    "for epoch in range(n_epochs):\n",
    "    model.train()\n",
    "    for x, y in train_loader:\n",
    "        x, y = x.to(device), y.to(device)\n",
    "        preds = model(x)\n",
    "        loss = loss_fn(preds, y)\n",
    "        optimizer.zero_grad()\n",
    "        loss.backward()\n",
    "        optimizer.step()\n",
    "\n",
    "    print(f\"Epoch {epoch+1} done. Loss: {loss.item():.4f}\")"
   ]
  },
  {
   "cell_type": "markdown",
   "id": "09763478",
   "metadata": {},
   "source": [
    "### Test the model"
   ]
  },
  {
   "cell_type": "code",
   "execution_count": 109,
   "id": "e95a39eb",
   "metadata": {},
   "outputs": [],
   "source": [
    "# Put model in evaluation mode\n",
    "model.eval()\n",
    "all_preds = []\n",
    "all_labels = []\n",
    "\n",
    "with torch.no_grad():\n",
    "    for x, y in val_loader:\n",
    "        x, y = x.to(device), y.to(device)\n",
    "        outputs = model(x)\n",
    "        preds = torch.argmax(outputs, dim=1)\n",
    "        all_preds.extend(preds.cpu().numpy())\n",
    "        all_labels.extend(y.cpu().numpy())"
   ]
  },
  {
   "cell_type": "code",
   "execution_count": 110,
   "id": "2f89636c",
   "metadata": {},
   "outputs": [
    {
     "name": "stdout",
     "output_type": "stream",
     "text": [
      "Accuracy: 0.3420\n"
     ]
    }
   ],
   "source": [
    "# Accuracy\n",
    "acc = accuracy_score(all_labels, all_preds)\n",
    "print(f\"Accuracy: {acc:.4f}\")"
   ]
  },
  {
   "cell_type": "code",
   "execution_count": 111,
   "id": "376488c7",
   "metadata": {},
   "outputs": [
    {
     "name": "stdout",
     "output_type": "stream",
     "text": [
      "              precision    recall  f1-score   support\n",
      "\n",
      "       angry       0.66      0.55      0.60        76\n",
      "        calm       0.75      0.23      0.36        77\n",
      "     disgust       0.27      0.08      0.12        77\n",
      "     fearful       0.33      0.34      0.33        77\n",
      "       happy       0.00      0.00      0.00        77\n",
      "     neutral       0.00      0.00      0.00        38\n",
      "         sad       0.23      0.39      0.29        77\n",
      "   surprised       0.29      0.97      0.45        77\n",
      "\n",
      "    accuracy                           0.34       576\n",
      "   macro avg       0.32      0.32      0.27       576\n",
      "weighted avg       0.34      0.34      0.29       576\n",
      "\n"
     ]
    },
    {
     "name": "stderr",
     "output_type": "stream",
     "text": [
      "c:\\Users\\alvar\\miniconda3\\envs\\nlp\\lib\\site-packages\\sklearn\\metrics\\_classification.py:1706: UndefinedMetricWarning: Precision is ill-defined and being set to 0.0 in labels with no predicted samples. Use `zero_division` parameter to control this behavior.\n",
      "  _warn_prf(average, modifier, f\"{metric.capitalize()} is\", result.shape[0])\n",
      "c:\\Users\\alvar\\miniconda3\\envs\\nlp\\lib\\site-packages\\sklearn\\metrics\\_classification.py:1706: UndefinedMetricWarning: Precision is ill-defined and being set to 0.0 in labels with no predicted samples. Use `zero_division` parameter to control this behavior.\n",
      "  _warn_prf(average, modifier, f\"{metric.capitalize()} is\", result.shape[0])\n",
      "c:\\Users\\alvar\\miniconda3\\envs\\nlp\\lib\\site-packages\\sklearn\\metrics\\_classification.py:1706: UndefinedMetricWarning: Precision is ill-defined and being set to 0.0 in labels with no predicted samples. Use `zero_division` parameter to control this behavior.\n",
      "  _warn_prf(average, modifier, f\"{metric.capitalize()} is\", result.shape[0])\n"
     ]
    }
   ],
   "source": [
    "# Detailed report\n",
    "print(classification_report(all_labels, all_preds, target_names=train_dataset.label2idx.keys()))"
   ]
  },
  {
   "cell_type": "code",
   "execution_count": 108,
   "id": "c2b993f0",
   "metadata": {},
   "outputs": [
    {
     "data": {
      "image/png": "[encoded data removed]",
      "text/plain": [
       "<Figure size 800x600 with 2 Axes>"
      ]
     },
     "metadata": {},
     "output_type": "display_data"
    }
   ],
   "source": [
    "cm = confusion_matrix(all_labels, all_preds)\n",
    "labels = list(train_dataset.label2idx.keys())\n",
    "\n",
    "plt.figure(figsize=(8, 6))\n",
    "sns.heatmap(cm, annot=True, fmt='d', xticklabels=labels, yticklabels=labels, cmap=\"Blues\")\n",
    "plt.xlabel(\"Predicted\")\n",
    "plt.ylabel(\"True\")\n",
    "plt.title(\"Confusion Matrix\")\n",
    "plt.show()"
   ]
  }
 ],
 "metadata": {
  "kernelspec": {
   "display_name": "nlp",
   "language": "python",
   "name": "python3"
  },
  "language_info": {
   "codemirror_mode": {
    "name": "ipython",
    "version": 3
   },
   "file_extension": ".py",
   "mimetype": "text/x-python",
   "name": "python",
   "nbconvert_exporter": "python",
   "pygments_lexer": "ipython3",
   "version": "3.10.18"
  }
 },
 "nbformat": 4,
 "nbformat_minor": 5
}
